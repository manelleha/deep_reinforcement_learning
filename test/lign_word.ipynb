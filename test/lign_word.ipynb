{
 "cells": [
  {
   "cell_type": "markdown",
   "id": "f50d5cd0",
   "metadata": {},
   "source": [
    "### TESTE DES DIFFERENT POLITIQUE APRES ENTRAINEMENT "
   ]
  },
  {
   "cell_type": "code",
   "execution_count": null,
   "id": "8b909374",
   "metadata": {},
   "outputs": [],
   "source": [
    "import sys\n",
    "sys.path.append(\"..\")\n"
   ]
  },
  {
   "cell_type": "code",
   "execution_count": null,
   "id": "032692dc",
   "metadata": {},
   "outputs": [],
   "source": [
    "from envs.line_world import reinitialiser, faire_un_pas"
   ]
  },
  {
   "cell_type": "code",
   "execution_count": null,
   "id": "28a1689a",
   "metadata": {},
   "outputs": [
    {
     "ename": "ModuleNotFoundError",
     "evalue": "No module named 'envs.line_world'",
     "output_type": "error",
     "traceback": [
      "\u001b[1;31m---------------------------------------------------------------------------\u001b[0m",
      "\u001b[1;31mModuleNotFoundError\u001b[0m                       Traceback (most recent call last)",
      "Cell \u001b[1;32mIn[3], line 3\u001b[0m\n\u001b[0;32m      1\u001b[0m \u001b[38;5;28;01mimport\u001b[39;00m \u001b[38;5;21;01msys\u001b[39;00m\n\u001b[0;32m      2\u001b[0m sys\u001b[38;5;241m.\u001b[39mpath\u001b[38;5;241m.\u001b[39mappend(\u001b[38;5;124m\"\u001b[39m\u001b[38;5;124m..\u001b[39m\u001b[38;5;124m\"\u001b[39m)\n\u001b[1;32m----> 3\u001b[0m \u001b[38;5;28;01mfrom\u001b[39;00m \u001b[38;5;21;01menvs\u001b[39;00m\u001b[38;5;21;01m.\u001b[39;00m\u001b[38;5;21;01mline_world\u001b[39;00m \u001b[38;5;28;01mimport\u001b[39;00m reinitialiser, faire_un_pas\n\u001b[0;32m      4\u001b[0m \u001b[38;5;28;01mfrom\u001b[39;00m \u001b[38;5;21;01malgo_sauvgarde\u001b[39;00m \u001b[38;5;28;01mimport\u001b[39;00m charger_resultats,tester_policy_en_console\n",
      "\u001b[1;31mModuleNotFoundError\u001b[0m: No module named 'envs.line_world'"
     ]
    }
   ],
   "source": [
    "\n",
    "from algo_sauvgarde import charger_resultats,tester_policy_en_console\n"
   ]
  },
  {
   "cell_type": "code",
   "execution_count": null,
   "id": "f273b910",
   "metadata": {},
   "outputs": [],
   "source": [
    "\n",
    "\n",
    "Q, policy, V = charger_resultats(\"sarsa\")\n",
    "tester_policy_en_console(policy, reinitialiser, faire_un_pas, episodes=10)\n",
    "\n"
   ]
  }
 ],
 "metadata": {
  "kernelspec": {
   "display_name": "base",
   "language": "python",
   "name": "python3"
  },
  "language_info": {
   "codemirror_mode": {
    "name": "ipython",
    "version": 3
   },
   "file_extension": ".py",
   "mimetype": "text/x-python",
   "name": "python",
   "nbconvert_exporter": "python",
   "pygments_lexer": "ipython3",
   "version": "3.11.4"
  }
 },
 "nbformat": 4,
 "nbformat_minor": 5
}
