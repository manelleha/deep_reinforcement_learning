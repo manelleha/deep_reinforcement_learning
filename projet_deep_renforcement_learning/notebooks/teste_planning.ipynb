{
 "cells": [
  {
   "cell_type": "markdown",
   "id": "1c24a84b",
   "metadata": {},
   "source": [
    "## Dyna-Q"
   ]
  },
  {
   "cell_type": "markdown",
   "id": "99e68bf0",
   "metadata": {},
   "source": [
    "## Line World"
   ]
  },
  {
   "cell_type": "code",
   "execution_count": 10,
   "id": "8c3ed816",
   "metadata": {},
   "outputs": [],
   "source": [
    "import sys\n",
    "import os\n",
    "\n",
    "sys.path.append(os.path.abspath('..'))\n"
   ]
  },
  {
   "cell_type": "markdown",
   "id": "be44c013",
   "metadata": {},
   "source": [
    "- 0 = gauche, 1 = droite\n",
    "- ici on commence a l'etat 3 donc a l'indice 3 dans le ligne worde"
   ]
  },
  {
   "cell_type": "code",
   "execution_count": 12,
   "id": "eef6e013",
   "metadata": {},
   "outputs": [
    {
     "name": "stdout",
     "output_type": "stream",
     "text": [
      "\n",
      "--- Épisode 1 ---\n",
      "État: 3, Action: 1 (exploration), État suivant: 4, Récompense: 1.0\n",
      "  Ancien Q[3,1] = 0.000, Nouveau = 0.100\n",
      "\n",
      "--- Épisode 2 ---\n",
      "État: 3, Action: 1 (exploitation), État suivant: 4, Récompense: 1.0\n",
      "  Ancien Q[3,1] = 0.686, Nouveau = 0.718\n",
      "\n",
      "--- Épisode 3 ---\n",
      "État: 3, Action: 1 (exploitation), État suivant: 4, Récompense: 1.0\n",
      "  Ancien Q[3,1] = 0.902, Nouveau = 0.911\n",
      "\n",
      "--- Épisode 4 ---\n",
      "État: 3, Action: 1 (exploitation), État suivant: 4, Récompense: 1.0\n",
      "  Ancien Q[3,1] = 0.969, Nouveau = 0.972\n",
      "\n",
      "--- Épisode 5 ---\n",
      "État: 3, Action: 1 (exploitation), État suivant: 4, Récompense: 1.0\n",
      "  Ancien Q[3,1] = 0.990, Nouveau = 0.991\n",
      "Politique apprise :\n",
      "État 0 (terminal) : -\n",
      "État 1 : ←\n",
      "État 2 : ←\n",
      "État 3 : →\n",
      "État 4 (terminal) : -\n"
     ]
    }
   ],
   "source": [
    "#========================================== Dyna-Q =================================================================\n",
    "\n",
    "from envs.line_world import (\n",
    "    nb_etats, nb_actions, états_terminaux,\n",
    "    réinitialiser, faire_un_pas, action_aléatoire\n",
    ")\n",
    "from algos.planning import dyna_q\n",
    "import numpy as np\n",
    "\n",
    "Q = dyna_q(\n",
    "    nb_etats=nb_etats,\n",
    "    nb_actions=nb_actions,\n",
    "    réinitialiser=réinitialiser,\n",
    "    faire_un_pas=faire_un_pas,\n",
    "    action_aléatoire=action_aléatoire,\n",
    "    episodes=5,  # Pour ne pas afficher trop de choses\n",
    "    debug=True\n",
    ")\n",
    "\n",
    "\n",
    "politique = np.argmax(Q, axis=1)\n",
    "print(\"Politique apprise :\")\n",
    "for i in range(nb_etats):\n",
    "    if i in états_terminaux:\n",
    "        print(f\"État {i} (terminal) : -\")\n",
    "    else:\n",
    "        print(f\"État {i} : {'→' if politique[i] == 1 else '←'}\")\n"
   ]
  },
  {
   "cell_type": "code",
   "execution_count": 14,
   "id": "666b01e4",
   "metadata": {},
   "outputs": [
    {
     "name": "stdout",
     "output_type": "stream",
     "text": [
      "Action : 0, Récompense : 0.0\n",
      "Action : 0, Récompense : 0.0\n",
      "Action : 0, Récompense : -1.0\n",
      "Épisode terminé.\n"
     ]
    }
   ],
   "source": [
    "from algos.planning import dyna_q\n",
    "from envs.line_world import (\n",
    "    nb_etats, nb_actions, réinitialiser, faire_un_pas, action_aléatoire\n",
    ")\n",
    "from animation.ligne_word import jouer_politique, jouer_manuellement\n",
    "\n",
    "# Apprentissage\n",
    "Q = dyna_q(\n",
    "    nb_etats=nb_etats,\n",
    "    nb_actions=nb_actions,\n",
    "    réinitialiser=réinitialiser,\n",
    "    faire_un_pas=faire_un_pas,\n",
    "    action_aléatoire=action_aléatoire,\n",
    "    episodes=50\n",
    ")\n",
    "\n",
    "#  Dérouler la politique apprise automatiquement :\n",
    "jouer_politique(Q)\n",
    "\n",
    "#  Contrôle manuel avec clavier ← / →\n",
    "jouer_manuellement()\n"
   ]
  },
  {
   "cell_type": "markdown",
   "id": "4ef94c6e",
   "metadata": {},
   "source": [
    "## Gril world"
   ]
  }
 ],
 "metadata": {
  "kernelspec": {
   "display_name": "Python 3",
   "language": "python",
   "name": "python3"
  },
  "language_info": {
   "codemirror_mode": {
    "name": "ipython",
    "version": 3
   },
   "file_extension": ".py",
   "mimetype": "text/x-python",
   "name": "python",
   "nbconvert_exporter": "python",
   "pygments_lexer": "ipython3",
   "version": "3.11.4"
  }
 },
 "nbformat": 4,
 "nbformat_minor": 5
}
