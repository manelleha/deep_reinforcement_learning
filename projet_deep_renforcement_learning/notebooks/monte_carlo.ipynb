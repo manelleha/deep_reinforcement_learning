{
 "cells": [
  {
   "cell_type": "code",
   "execution_count": 1,
   "metadata": {},
   "outputs": [
    {
     "ename": "ModuleNotFoundError",
     "evalue": "No module named 'monte_carlo'",
     "output_type": "error",
     "traceback": [
      "\u001b[0;31m---------------------------------------------------------------------------\u001b[0m",
      "\u001b[0;31mModuleNotFoundError\u001b[0m                       Traceback (most recent call last)",
      "Cell \u001b[0;32mIn[1], line 1\u001b[0m\n\u001b[0;32m----> 1\u001b[0m \u001b[38;5;28;01mfrom\u001b[39;00m \u001b[38;5;21;01mmonte_carlo\u001b[39;00m \u001b[38;5;28;01mimport\u001b[39;00m on_policy_first_visit_mc_control\n\u001b[1;32m      2\u001b[0m \u001b[38;5;28;01mfrom\u001b[39;00m \u001b[38;5;21;01menvs\u001b[39;00m\u001b[38;5;21;01m.\u001b[39;00m\u001b[38;5;21;01mline_world\u001b[39;00m \u001b[38;5;28;01mimport\u001b[39;00m LineWorld\n",
      "\u001b[0;31mModuleNotFoundError\u001b[0m: No module named 'monte_carlo'"
     ]
    }
   ],
   "source": [
    "from montecarlo import on_policy_first_visit_mc_control\n",
    "from envs.line_world import LineWorld  # adapte selon ton nom exact\n"
   ]
  },
  {
   "cell_type": "code",
   "execution_count": null,
   "metadata": {},
   "outputs": [],
   "source": [
    "env = LineWorld()  # ou line_world.LineWorld()\n",
    "policy, Q = on_policy_first_visit_mc_control(env, episodes=5000, gamma=0.9, epsilon=0.1)\n"
   ]
  }
 ],
 "metadata": {
  "kernelspec": {
   "display_name": "B3-intro-ml",
   "language": "python",
   "name": "python3"
  },
  "language_info": {
   "codemirror_mode": {
    "name": "ipython",
    "version": 3
   },
   "file_extension": ".py",
   "mimetype": "text/x-python",
   "name": "python",
   "nbconvert_exporter": "python",
   "pygments_lexer": "ipython3",
   "version": "3.10.14"
  }
 },
 "nbformat": 4,
 "nbformat_minor": 2
}
